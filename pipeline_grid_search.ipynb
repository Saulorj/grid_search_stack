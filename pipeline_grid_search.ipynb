{
 "cells": [
  {
   "cell_type": "code",
   "execution_count": 5,
   "id": "adopted-divorce",
   "metadata": {},
   "outputs": [],
   "source": [
    "\n",
    "\n",
    "# utilitários em geral\n",
    "import pandas as pd\n",
    "pd.options.display.float_format = '{:,.2f}'.format #configurando casas decimais\n",
    "import numpy as np\n",
    "\n",
    "#utilitários para modelos\n",
    "from sklearn.model_selection import GridSearchCV\n",
    "from sklearn.model_selection import train_test_split\n",
    "from sklearn import model_selection \n",
    "from sklearn import metrics\n",
    "from sklearn.pipeline import make_pipeline\n",
    "from sklearn.preprocessing import StandardScaler\n",
    "from sklearn.preprocessing import MinMaxScaler\n",
    "\n",
    "# gráficos\n",
    "%matplotlib inline \n",
    "import matplotlib.pyplot as plt\n",
    "import seaborn as snb\n",
    "\n",
    "# Classificadores\n",
    "from sklearn.linear_model import LogisticRegression\n",
    "from sklearn.tree import DecisionTreeClassifier\n",
    "from sklearn.neighbors import KNeighborsClassifier\n",
    "from sklearn.naive_bayes import GaussianNB\n",
    "from sklearn.ensemble import RandomForestClassifier, AdaBoostClassifier\n",
    "from sklearn.svm import SVC\n",
    "from sklearn.neural_network import MLPClassifier\n",
    "from sklearn.gaussian_process import GaussianProcessClassifier\n",
    "from sklearn.gaussian_process.kernels import RBF\n",
    "\n",
    "# Regressores\n",
    "from sklearn.linear_model import LinearRegression\n",
    "from sklearn.svm import NuSVR\n",
    "from sklearn.linear_model import Lasso\n",
    "from sklearn.linear_model import Ridge\n",
    "from sklearn.linear_model import ElasticNet\n",
    "from sklearn.neighbors import KNeighborsRegressor\n",
    "from sklearn.tree import DecisionTreeRegressor\n",
    "from sklearn.svm import SVR\n",
    "from sklearn.ensemble import RandomForestRegressor\n",
    "from sklearn.ensemble import GradientBoostingRegressor"
   ]
  },
  {
   "cell_type": "markdown",
   "id": "minus-adolescent",
   "metadata": {},
   "source": [
    "## Classification Models"
   ]
  },
  {
   "cell_type": "code",
   "execution_count": 24,
   "id": "boolean-significance",
   "metadata": {},
   "outputs": [],
   "source": [
    "# list of each algorithm parameter\n",
    "\n",
    "# random forest classifier\n",
    "rf_prameter={\n",
    "    'random_state': [None, 0, 1, 2, 3],\n",
    "    'max_depth': [None, 1, 2, 3, 4, 15, 20],\n",
    "    'n_estimators': [5, 10, 100, 150, 200], \n",
    "    'max_features': ['auto', 'sqrt', 'log2', 1, 2, 3],\n",
    "    'criterion': ['gini', 'entropy'],\n",
    "    'min_samples_split': [2, 4, 6],\n",
    "    'min_samples_leaf': [3,4,5]}\n",
    "\n",
    "# logistic regression classifier\n",
    "lr_parameter = {}\n",
    "\n",
    "svc_parameter = {}\n",
    "\n",
    "dt_parameter = {}\n",
    "\n",
    "knn_parameter = {}\n",
    "\n",
    "gnb_parameter = {}\n",
    "\n",
    "ab_parameter = {}\n",
    "\n",
    "mlp_parameter = {}\n",
    "\n",
    "gp_parameter = {}\n",
    "\n",
    "rbf_parameter = {}"
   ]
  },
  {
   "cell_type": "code",
   "execution_count": 25,
   "id": "democratic-emission",
   "metadata": {},
   "outputs": [],
   "source": [
    "models = []\n",
    "models.append(('Random Forest', RandomForestClassifier(), rf_prameter))\n",
    "models.append(('Logistic Regression', LogisticRegression(), lr_parameter))\n",
    "models.append(('SVC', SVC(), svc_parameter))\n",
    "models.append(('Decision Tree', DecisionTreeClassifier(), dt_parameter))\n",
    "models.append(('KNeighbors', KNeighborsClassifier(), knn_parameter))\n",
    "models.append(('GaussianNB', GaussianNB(), gnb_parameter))\n",
    "models.append(('AdaBoost', AdaBoostClassifier(), ab_parameter))\n",
    "models.append(('MLP', MLPClassifier(), mlp_parameter))\n",
    "models.append(('Gaussian Process', GaussianProcessClassifier(), gp_parameter))\n",
    "models.append(('Gaussian Process', RBF(), rbf_parameter))\n",
    "\n",
    "\n",
    "def run_classification_models(models):\n",
    "    '''Run all models with his parameters in a gridsearch and return best result'''\n",
    "    for name, model, prameter in models:\n",
    "        print(\"Testing\", name, \"algorithm\")\n",
    "        print(\"================================\\n\")\n",
    "        \n",
    "        "
   ]
  },
  {
   "cell_type": "code",
   "execution_count": 27,
   "id": "induced-whale",
   "metadata": {},
   "outputs": [
    {
     "name": "stdout",
     "output_type": "stream",
     "text": [
      "Testing Random Forest algorithm\n",
      "================================\n",
      "\n",
      "Testing Logistic Regression algorithm\n",
      "================================\n",
      "\n",
      "Testing SVC algorithm\n",
      "================================\n",
      "\n",
      "Testing Decision Tree algorithm\n",
      "================================\n",
      "\n",
      "Testing KNeighbors algorithm\n",
      "================================\n",
      "\n",
      "Testing GaussianNB algorithm\n",
      "================================\n",
      "\n",
      "Testing AdaBoost algorithm\n",
      "================================\n",
      "\n",
      "Testing MLP algorithm\n",
      "================================\n",
      "\n",
      "Testing Gaussian Process algorithm\n",
      "================================\n",
      "\n",
      "Testing Gaussian Process algorithm\n",
      "================================\n",
      "\n",
      "Wall time: 996 µs\n"
     ]
    }
   ],
   "source": [
    "%time run_classification_models(models)  "
   ]
  },
  {
   "cell_type": "code",
   "execution_count": null,
   "id": "eight-taiwan",
   "metadata": {},
   "outputs": [],
   "source": []
  }
 ],
 "metadata": {
  "kernelspec": {
   "display_name": "Python 3",
   "language": "python",
   "name": "python3"
  },
  "language_info": {
   "codemirror_mode": {
    "name": "ipython",
    "version": 3
   },
   "file_extension": ".py",
   "mimetype": "text/x-python",
   "name": "python",
   "nbconvert_exporter": "python",
   "pygments_lexer": "ipython3",
   "version": "3.7.4"
  }
 },
 "nbformat": 4,
 "nbformat_minor": 5
}
